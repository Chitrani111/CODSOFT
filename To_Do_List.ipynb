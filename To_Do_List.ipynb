{
 "cells": [
  {
   "cell_type": "code",
   "execution_count": null,
   "id": "d8e92974-00ae-4ef8-afa2-b6fac8d4ca74",
   "metadata": {},
   "outputs": [],
   "source": [
    "from tkinter import *\n",
    "\n",
    "def add():\n",
    "    global scvalue\n",
    "    text = screen.get()\n",
    "    if ANCHOR:\n",
    "        lbx.insert(ANCHOR, text)\n",
    "    else:\n",
    "        lbx.insert(END, text)\n",
    "    lbx.update()\n",
    "\n",
    "def delete():\n",
    "    lbx.delete(ANCHOR)\n",
    "\n",
    "root = Tk()\n",
    "root.title(\"To_Do_List by Chitrani\")\n",
    "root.wm_iconbitmap(\"to_do_list_icon.ico\")\n",
    "root.geometry(\"400x650+400+100\")\n",
    "root.resizable(False, False)\n",
    "\n",
    "frame = Frame(root, borderwidth=3, bg=\"alice blue\", relief=SUNKEN)\n",
    "\n",
    "TopImage = PhotoImage(file=\"topbar.png\")\n",
    "Label(root, image=TopImage).pack()\n",
    "\n",
    "heading = Label(root, text=\"To Do List\", font=\"lucida 25 bold\", fg=\"yellow\", bg=\"#32405b\")\n",
    "heading.place(x=120, y=20)\n",
    "\n",
    "scvalue = StringVar()\n",
    "scvalue.set(\"\")\n",
    "screen = Entry(root, textvar=scvalue, font=\"vani 35 bold\")\n",
    "screen.pack(fill=X, ipadx=8, pady=10, padx=10)\n",
    "\n",
    "btn = Button(root, text=\"Add Item\", font=\"lucida 20\", bg=\"pale green\", command=add).pack()\n",
    "\n",
    "lbx = Listbox(root, font=\"15\")\n",
    "lbx.pack(fill=X, ipady=40, pady=20, padx=10)\n",
    "lbx.insert(END)\n",
    "\n",
    "btn2 = Button(root, text=\"Delete\", font=\"lucida 20\", bg=\"red\", command=delete).pack()\n",
    "\n",
    "frame.pack()\n",
    "\n",
    "root.mainloop()"
   ]
  },
  {
   "cell_type": "code",
   "execution_count": null,
   "id": "a7d82e27-3965-40de-8b4a-6aaad2d4c45d",
   "metadata": {},
   "outputs": [],
   "source": []
  }
 ],
 "metadata": {
  "kernelspec": {
   "display_name": "Python 3 (ipykernel)",
   "language": "python",
   "name": "python3"
  },
  "language_info": {
   "codemirror_mode": {
    "name": "ipython",
    "version": 3
   },
   "file_extension": ".py",
   "mimetype": "text/x-python",
   "name": "python",
   "nbconvert_exporter": "python",
   "pygments_lexer": "ipython3",
   "version": "3.11.7"
  }
 },
 "nbformat": 4,
 "nbformat_minor": 5
}
